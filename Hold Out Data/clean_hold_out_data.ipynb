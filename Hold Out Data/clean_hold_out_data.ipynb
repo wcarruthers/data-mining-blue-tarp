{
 "cells": [
  {
   "cell_type": "code",
   "execution_count": 1,
   "metadata": {},
   "outputs": [],
   "source": [
    "import os\n",
    "import pandas as pd\n",
    "def get_files(ext):\n",
    "    result = list()\n",
    "\n",
    "    # Get the length of extension\n",
    "    n = len(ext)\n",
    "    print(n)\n",
    "    # Get the current working directory\n",
    "    currdir = os.getcwd()\n",
    "    print(currdir)\n",
    "    # List files and directories in the directory\n",
    "    l = os.listdir(currdir)\n",
    "    print(l)\n",
    "    # Iterate on the list\n",
    "    for i in l:\n",
    "        # Check if this is a file and not a directory\n",
    "        if os.path.isfile(os.path.join(currdir, i)):\n",
    "            # Get last n + 1 characters of file name\n",
    "            chars = i[-n-1:]\n",
    "            print(chars, i)\n",
    "            if chars == ('.' + ext): # We got one\n",
    "                result.append(i)\n",
    "\n",
    "    return result\n",
    "def isBlueTarp(s):\n",
    "    if 'NON' in s or 'NOT' in s:\n",
    "        return False\n",
    "    else:\n",
    "        return True"
   ]
  },
  {
   "cell_type": "code",
   "execution_count": 2,
   "metadata": {},
   "outputs": [
    {
     "name": "stdout",
     "output_type": "stream",
     "text": [
      "3\n",
      "C:\\Users\\wcarr\\Documents\\uva_dsi\\SYS6018\\project_final\\Hold Out Data\n",
      "['.ipynb_checkpoints', 'clean_hold_out_data.ipynb', 'orthovnir057_ROI_NON_Blue_Tarps.txt', 'orthovnir067_ROI_Blue_Tarps.txt', 'orthovnir067_ROI_Blue_Tarps_data.txt', 'orthovnir067_ROI_NOT_Blue_Tarps.txt', 'orthovnir069_ROI_Blue_Tarps.txt', 'orthovnir069_ROI_NOT_Blue_Tarps.txt', 'orthovnir071_makeshift_villiage1.jpg', 'orthovnir071_makeshift_villiage2.jpg', 'orthovnir078_makeshift_villiage1.jpg', 'orthovnir078_ROI_Blue_Tarps.txt', 'orthovnir078_ROI_NON_Blue_Tarps.txt']\n",
      "pynb clean_hold_out_data.ipynb\n",
      ".txt orthovnir057_ROI_NON_Blue_Tarps.txt\n",
      ".txt orthovnir067_ROI_Blue_Tarps.txt\n",
      ".txt orthovnir067_ROI_Blue_Tarps_data.txt\n",
      ".txt orthovnir067_ROI_NOT_Blue_Tarps.txt\n",
      ".txt orthovnir069_ROI_Blue_Tarps.txt\n",
      ".txt orthovnir069_ROI_NOT_Blue_Tarps.txt\n",
      ".jpg orthovnir071_makeshift_villiage1.jpg\n",
      ".jpg orthovnir071_makeshift_villiage2.jpg\n",
      ".jpg orthovnir078_makeshift_villiage1.jpg\n",
      ".txt orthovnir078_ROI_Blue_Tarps.txt\n",
      ".txt orthovnir078_ROI_NON_Blue_Tarps.txt\n",
      "['orthovnir057_ROI_NON_Blue_Tarps.txt', 'orthovnir067_ROI_Blue_Tarps.txt', 'orthovnir067_ROI_Blue_Tarps_data.txt', 'orthovnir067_ROI_NOT_Blue_Tarps.txt', 'orthovnir069_ROI_Blue_Tarps.txt', 'orthovnir069_ROI_NOT_Blue_Tarps.txt', 'orthovnir078_ROI_Blue_Tarps.txt', 'orthovnir078_ROI_NON_Blue_Tarps.txt']\n",
      "orthovnir057_ROI_NON_Blue_Tarps.txt False\n",
      "orthovnir067_ROI_Blue_Tarps.txt True\n",
      "orthovnir067_ROI_Blue_Tarps_data.txt True\n",
      "orthovnir067_ROI_NOT_Blue_Tarps.txt False\n",
      "orthovnir069_ROI_Blue_Tarps.txt True\n",
      "orthovnir069_ROI_NOT_Blue_Tarps.txt False\n",
      "orthovnir078_ROI_Blue_Tarps.txt True\n",
      "orthovnir078_ROI_NON_Blue_Tarps.txt False\n"
     ]
    }
   ],
   "source": [
    "files_to_clean = get_files('txt')\n",
    "print(files_to_clean)\n",
    "for file in files_to_clean:\n",
    "    print(file, isBlueTarp(file))"
   ]
  },
  {
   "cell_type": "code",
   "execution_count": 7,
   "metadata": {},
   "outputs": [
    {
     "name": "stdout",
     "output_type": "stream",
     "text": [
      "running file orthovnir057_ROI_NON_Blue_Tarps.txt\n",
      "979279\n",
      "running file orthovnir067_ROI_Blue_Tarps.txt\n",
      "983726\n",
      "running file orthovnir067_ROI_Blue_Tarps_data.txt\n",
      "983726\n",
      "running file orthovnir067_ROI_NOT_Blue_Tarps.txt\n",
      "1288938\n",
      "running file orthovnir069_ROI_Blue_Tarps.txt\n",
      "1295767\n",
      "running file orthovnir069_ROI_NOT_Blue_Tarps.txt\n",
      "1591278\n",
      "running file orthovnir078_ROI_Blue_Tarps.txt\n",
      "1594485\n",
      "running file orthovnir078_ROI_NON_Blue_Tarps.txt\n",
      "2004184\n",
      "['orthovnir067_ROI_Blue_Tarps_data.txt']\n"
     ]
    }
   ],
   "source": [
    "# Open file \n",
    "row_list = []\n",
    "error_file = []\n",
    "for file in files_to_clean:\n",
    "    print(\"running file\", file)\n",
    "    with open (file, \"r\") as input_file:\n",
    "        # Read each line in loop\n",
    "        counter = 0\n",
    "        for line in input_file:\n",
    "            #removing header\n",
    "            if counter < 7:\n",
    "                    pass\n",
    "            else:\n",
    "                try:\n",
    "                    split_line = line.split('  ')\n",
    "                    Red = split_line[len(split_line)-3].strip()\n",
    "                    Green = split_line[len(split_line)-2].strip()\n",
    "                    Blue = split_line[len(split_line)-1].strip()\n",
    "                    new_dict = {}\n",
    "                    new_dict = {\n",
    "                        'is_blue_tarp':isBlueTarp(file),\n",
    "                        'Red': Red,\n",
    "                        'Green': Green,\n",
    "                        'Blue': Blue\n",
    "                    }\n",
    "                    row_list.append(new_dict)\n",
    "                except:\n",
    "                    if file in error_file:\n",
    "                        pass\n",
    "                    else:\n",
    "                        error_file.append(file)\n",
    "            counter += 1\n",
    "        print(len(row_list))\n",
    "df = pd.DataFrame(row_list)\n",
    "print(error_file)\n",
    "df.head(10)\n",
    "df = df.drop(df[df.Blue == 'B3'].index) # removing header rows where parsing wasn't on row 7"
   ]
  },
  {
   "cell_type": "code",
   "execution_count": 4,
   "metadata": {},
   "outputs": [],
   "source": [
    "df.to_csv('HoldOut_Pixels.csv')"
   ]
  },
  {
   "cell_type": "code",
   "execution_count": 5,
   "metadata": {},
   "outputs": [],
   "source": [
    "df = pd.read_csv('HoldOut_Pixels.csv')"
   ]
  },
  {
   "cell_type": "code",
   "execution_count": 6,
   "metadata": {},
   "outputs": [
    {
     "data": {
      "text/plain": [
       "2004177"
      ]
     },
     "execution_count": 6,
     "metadata": {},
     "output_type": "execute_result"
    }
   ],
   "source": [
    "len(df.index)"
   ]
  }
 ],
 "metadata": {
  "kernelspec": {
   "display_name": "Python 3",
   "language": "python",
   "name": "python3"
  },
  "language_info": {
   "codemirror_mode": {
    "name": "ipython",
    "version": 3
   },
   "file_extension": ".py",
   "mimetype": "text/x-python",
   "name": "python",
   "nbconvert_exporter": "python",
   "pygments_lexer": "ipython3",
   "version": "3.7.3"
  }
 },
 "nbformat": 4,
 "nbformat_minor": 2
}
